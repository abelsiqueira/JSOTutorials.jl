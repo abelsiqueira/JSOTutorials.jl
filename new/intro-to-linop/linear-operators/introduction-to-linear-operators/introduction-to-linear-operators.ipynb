{
  "cells": [
    {
      "cell_type": "markdown",
      "source": [
        "# Introduction to LinearOperators.jl\n### Abel Soares Siqueira\n\n![](../../jso-banner.png)"
      ],
      "metadata": {}
    },
    {
      "outputs": [],
      "cell_type": "code",
      "source": [
        "using Pkg\npkg\"activate .\"\npkg\"add LinearOperators\"\npkg\"add FFTW\"\npkg\"add Plots\"\npkg\"add PyPlot\"\npkg\"add Weave\"\npkg\"instantiate\"\npkg\"status\""
      ],
      "metadata": {},
      "execution_count": null
    },
    {
      "cell_type": "markdown",
      "source": [
        "Julia version and JSO packages:"
      ],
      "metadata": {}
    },
    {
      "outputs": [],
      "cell_type": "code",
      "source": [
        "pkgs = [\"LinearOperators\"]\n\nusing Pkg\nctx=Pkg.Types.Context()\ndisplay(\"text/html\", \"<img src=\\\"https://img.shields.io/badge/julia-$VERSION-3a5fcc.svg?style=flat-square&logo=data:image/png;base64,iVBORw0KGgoAAAANSUhEUgAAAA4AAAAOCAMAAAAolt3jAAAB+FBMVEUAAAA3lyU3liQ4mCY4mCY3lyU4lyY1liM3mCUskhlSpkIvkx0zlSEeigo5mSc8mio0liKPxYQ/nC5NozxQpUBHoDY3lyQ5mCc3lyY6mSg3lyVPpD9frVBgrVFZqUpEnjNgrVE3lyU8mio8mipWqEZhrVJgrVFfrE9JoTkAVAA3lyXJOjPMPjNZhCowmiNOoz1erE9grVFYqUhCnjFmk2KFYpqUV7KTWLDKOjK8CADORj7GJx3SJyVAmCtKojpOoz1DnzFVeVWVSLj///+UV7GVWbK8GBjPTEPMQTjPTUXQUkrQSEGZUycXmg+WXbKfZ7qgarqbYraSVLCUV7HLPDTKNy7QUEjUYVrVY1zTXFXPRz2UVLmha7upeMCqecGlcb6aYLWfaLrLPjXLPjXSWFDVZF3VY1zVYlvRTkSaWKqlcr6qesGqecGpd8CdZbjo2+7LPTTKOS/QUUnVYlvVY1zUXVbPSD6TV7OibLuqecGqecGmc76aYbaibLvKOC/SWlPMQjrQUEjRVEzPS0PLPDL7WROZX7WgarqibLucY7eTVrCVWLLLOzLGLCLQT0bIMynKOC7FJx3MPjV/Vc+odsCRUa+SVLCDPaWVWLKWWrLJOzPHOTLKPDPLPDPLOzLLPDOUV6+UV7CVWLKVWLKUV7GUWLGPUqv///8iGqajAAAAp3RSTlMAAAAAAAAAAAAAABAZBAAAAABOx9uVFQAAAB/Y////eQAAADv0////pgEAAAAAGtD///9uAAAAAAAAAAcOQbPLfxgNAAAAAAA5sMyGGg1Ht8p6CwAAFMf///94H9j///xiAAAw7////65K+f///5gAABjQ////gibg////bAAAAEfD3JwaAFfK2o0RAAAAAA4aBQAAABEZAwAAAAAAAAAAAAAAAAAAAIvMfRYAAAA6SURBVAjXtcexEUBAFAXAfTM/IDH6uAbUqkItyAQYR26zDeS0UxieBvPVbArjXd9GS295raa/Gmu/A7zfBRgv03cCAAAAAElFTkSuQmCC\\\">\")\nfor p in pkgs\n  uuid=ctx.env.project.deps[p]\n  v=ctx.env.manifest[uuid].version\n  c=string(hash(p) % 0x1000000, base=16)\n  display(\"text/html\", \"<img src=\\\"https://img.shields.io/badge/$p-$v-brightgreen?color=$c\\\">\")\nend\nprintln(\"Tutorial beginning:\")"
      ],
      "metadata": {},
      "execution_count": null
    },
    {
      "cell_type": "markdown",
      "source": [
        "---\n\nLinearOperators.jl is a package for matrix-like operators. Linear operators are defined by how they act on a vector, which is useful in a variety of situations where you don't want to produce the matrix."
      ],
      "metadata": {}
    },
    {
      "outputs": [],
      "cell_type": "code",
      "source": [
        "using LinearOperators\n\nprod(v) = [3v[1] - v[2]; 2v[1] + 2v[2]]\n#                     type, nrows, ncols, symm?, herm?, prod[; tprod, ctprod]\nA = LinearOperator(Float64,     2,     2, false, false, prod)\n\nA * ones(2)"
      ],
      "metadata": {},
      "execution_count": null
    },
    {
      "cell_type": "markdown",
      "source": [
        "The operator can be symmetric and/or Hermitian, and it the transpose and adjoint products might be defined as well:"
      ],
      "metadata": {}
    },
    {
      "outputs": [],
      "cell_type": "code",
      "source": [
        "prod(v) = [3v[1] - v[2]; 2v[1] + 2v[2]]\ntprod(v) = [3v[1] + 2v[2]; -v[1] + 2v[2]]\n\nA = LinearOperator(Float64, 2, 2, false, false, prod, tprod)\n\nA' * ones(2)"
      ],
      "metadata": {},
      "execution_count": null
    },
    {
      "outputs": [],
      "cell_type": "code",
      "source": [
        "using FFTW, LinearAlgebra\n\nA = LinearOperator(16, 16, false, false, fft, nothing, ifft)\n\nv = rand(16) + im * rand(16)\nnorm(A' * A * v - v)"
      ],
      "metadata": {},
      "execution_count": null
    },
    {
      "cell_type": "markdown",
      "source": [
        "Notice that in some cases missing operators can be inferred."
      ],
      "metadata": {}
    },
    {
      "outputs": [],
      "cell_type": "code",
      "source": [
        "A = LinearOperator(16, 16, false, false, fft, nothing, ifft)\nv = rand(16) + im * rand(16)\n\ntranspose(A) * v == conj.(ifft(conj.(v)))"
      ],
      "metadata": {},
      "execution_count": null
    },
    {
      "cell_type": "markdown",
      "source": [
        "## Lazy Products\n\nOne immediate advantage of LinearOperators is that it allows lazy matrix products."
      ],
      "metadata": {}
    },
    {
      "outputs": [],
      "cell_type": "code",
      "source": [
        "n = 4000\nA = rand(n, n)\nB = rand(n, n)\nopA = LinearOperator(A)\nopB = LinearOperator(B)\n\n# Run twice\n@time A * B\n@time opA * opB\n\nv = rand(n)\n@time A * (B * v)\n@time (opA * opB) * v;"
      ],
      "metadata": {},
      "execution_count": null
    },
    {
      "cell_type": "markdown",
      "source": [
        "## Inverse Operator\n\nOperators may be defined to represent (approximate) inverses."
      ],
      "metadata": {}
    },
    {
      "outputs": [],
      "cell_type": "code",
      "source": [
        "A = rand(5,5)\nA = A' * A\nop = opCholesky(A)  # Use, e.g., as a preconditioner\nv = rand(5)\n\nnorm(A \\ v - op * v) / norm(v)"
      ],
      "metadata": {},
      "execution_count": null
    },
    {
      "cell_type": "markdown",
      "source": [
        "## LBFGS Operator\n\nOne useful operator is the Limited BFGS operator, which implements the BFGS update with limited memory used in nonlinear optimization. This update comes in both direct ($B_k$) and inverse ($H_k = B_k^{-1}$) formats.\n$$\nB_{k+1} = B_k + \\frac{y_k y_k^T}{y_k^T s_k} - \\frac{B_k s_k s_k^T B_k^T}{s_k^T B_k s_k}\n$$\n$$\nH_{k+1} = \\bigg(I - \\frac{s_k y_k^T}{y_k^T s_k}\\bigg)H_k\\bigg(I - \\frac{y_k s_k^T}{y_k^T s_k}\\bigg) + \\frac{s_k s_k^T}{y_k^T s_k}\n$$"
      ],
      "metadata": {}
    },
    {
      "outputs": [],
      "cell_type": "code",
      "source": [
        "B = LBFGSOperator(5, scaling=false) # B₀ = I\nH = InverseLBFGSOperator(5, scaling=false) # H₀ = I\n\n# Example of s₀ and y₀\ns = rand(5)\ny = rand(5)\npush!(B, s, y)\npush!(H, s, y)\n\nq = rand(5)\nBq = q + dot(y, q) / dot(y, s) * y - dot(s, q) / dot(s, s) * s\nHauxq = q - dot(s, q) / dot(y, s) * y\nHq = Hauxq - dot(y, Hauxq) / dot(y, s) * s + dot(s, q) / dot(y, s) * s\n\nnorm(B * q - Bq), norm(H * q - Hq), norm(B * H * q - q)"
      ],
      "metadata": {},
      "execution_count": null
    },
    {
      "cell_type": "markdown",
      "source": [
        "# Application: Heat Equation\n\nConsider a square plate of size $L \\times L$ with no heat exchange on the boundaries.\nThe Heat Equation and boundary conditions related to the temperature $u(t,x,y)$ at time $t$, position $(x,y)$ is given by\n$$\n\\frac{\\partial u}{\\partial t} = \\alpha \\bigg(\\frac{\\partial^2 u}{\\partial x^2} + \\frac{\\partial^2 u}{\\partial y^2}\\bigg),\n$$\nwhere $\\alpha > 0$, and\n$$\n\\frac{\\partial u}{\\partial x}(t,0,y) = \\frac{\\partial u}{\\partial x}(t,L,y) =\n\\frac{\\partial u}{\\partial y}(t,x,0) = \\frac{\\partial u}{\\partial y}(t,x,L) = 0.\n$$\n\nDiscretizing $u$ into $[0,t_1,\\dots,t_N]$ and $x \\in [0,L]$ into $[x_1,x_2,\\dots,x_m]$ and accordingly to $y$,\nwe define $u^n_{i,j}$ as the approximation to $u(t_n,x_i,y_j)$.\nThe derivatives can be approximated by finite differences:\n$$\n\\begin{align}\n  u_t(t_n,x_i,y_j) & \\approx \\frac{u^{n+1}_{i,j} - u^n_{i,j}}{\\delta}\n      \\qquad \\text{(Forward scheme in time)}; \\\\\n  u_x(t_n,x_i,y_j) & \\approx \\frac{u^n_{i+1,j} - u^n_{i-1,j}}{2h}\n      \\qquad \\text{(Central 1st order scheme)}; \\\\\n  u_{xx}(t_n,x_i,y_j) & \\approx \\frac{u^n_{i+1,j} - 2u^n_{i,j} + u^n_{i-1,j}}{h^2}\n      \\qquad \\text{Central 2nd order scheme)}; \\\\\n  u_y(t_n,x_i,y_j) & \\approx \\frac{u^n_{i,j+1} - u^n_{i,j-1}}{2h}\n      \\qquad \\text{(Central 1st order scheme)}; \\\\\n  u_{yy}(t_n,x_i,y_j) & \\approx \\frac{u^n_{i,j+1} - 2u^n_{i,j} + u^n_{i,j-1}}{h^2}\n      \\qquad \\text{Central 2nd order scheme)}.\n\\end{align}\n$$\n\nSubstituting in the PDE, we obtain\n$$\n\\frac{u^{n+1}_{i,j} - u^n_{i,j}}{\\delta} = \\frac{\\alpha}{h^2}(-4u^n_{i,j} + u^n_{i-1,j} + u^n_{i+1,j} + u^n_{i,j-1} + u^n_{i,j+1}),\n$$\nwhere $\\delta = t_{n+1} - t_n$ and $h = x_{i+1} - x_i = y_{j+1} - y_j$.\nThis can be written as\n$$\nu^{n+1}_{i,j} = (1 - 4\\gamma)u^n_{i,j} + \\gamma\\Big(u^n_{i-1,j} + u^n_{i+1,j} + u^n_{i,j-1} + u^n_{i,j+1}\\Big),\n$$\nwhere $\\gamma = \\dfrac{\\alpha\\delta}{h^2}$.\n\nThe boundary conditions at the nodes are\n$$\nu_x(t_n,x_1,y_j) = u_x(t_n,x_m,y_j) = u_y(t_n,x_i,y_1) = u_y(t_n,x_i,y_m) = 0.\n$$\nThis leads to\n$$\nu^n_{2,j} = u^n_{0,j}, \\quad\nu^n_{m+1,j} = u^n_{m-1,j}, \\quad\nu^n_{i,2} = u^n_{i,0}, \\quad\nu^n_{i,m+1} = u^n_{i,m-1}.\n$$\n\nNote that in the PDE discretization, if $u^n_{0,j}$, $u^n_{m+1,j}$, $u^n_{i,0}$ or $u^n_{i,m+1}$ appear, we can substitute it by one of the inner mesh points.\nFor instance, for $(i,j) = (1,2)$:\n$$\n\\begin{align}\n    u^{n+1}_{1,2} & = (1 - 4\\gamma)u^n_{1,2} + \\gamma\\Big(u^n_{0,2} + u^n_{2,2} + u^n_{1,1} + u^n_{1,3}\\Big) \\\\\n        & = (1 - 4\\gamma)u^n_{1,2} + \\gamma\\Big(2u^n_{2,2} + u^n_{1,1} + u^n_{1,3}\\Big)\n\\end{align}\n$$\nAnother example, for $(i,j) = (1,1)$:\n$$\n\\begin{align}\n    u^{n+1}_{1,1} & = (1 - 4\\gamma)u^n_{1,1} + \\gamma\\Big(u^n_{0,1} + u^n_{2,1} + u^n_{1,0} + u^n_{1,2}\\Big) \\\\\n        & = (1 - 4\\gamma)u^n_{1,1} + \\gamma\\Big(2u^n_{2,1} + 2u^n_{1,2}\\Big)\n\\end{align}\n$$\n\nNow we define $U^n = (u_{1,1}^n, u_{1,2}^n, \\dots, u_{1,m}^n, u_{2,1}^n, \\dots, u_{m,m}^n)^T$, i.e., the linearized matrix of mesh points for a given $t = t_n$. \nThis way we can define the following recurrence relation:\n$$ U^{n+1} = AU^n, $$\nfor some matrix $A$.\nThis matrix has a very special structure. With $m = 3$, which only has one interior  mesh point, it becomes the following:\n$$\n\\begin{bmatrix}\n1 - 4\\gamma & 2\\gamma & 0 & 2\\gamma & 0 & 0 & 0 & 0 & 0 \\\\\n\\gamma & 1 - 4\\gamma & \\gamma & 0 & 2\\gamma & 0 & 0 & 0 & 0 \\\\\n0 & 2\\gamma & 1 - 4\\gamma & 0 & 0 & 2\\gamma & 0 & 0 & 0 \\\\\n\\gamma & 0 & 0 & 1 - 4\\gamma & 2\\gamma & 0 & \\gamma & 0 & 0 \\\\\n0 & \\gamma & 0 & \\gamma & 1 - 4\\gamma & \\gamma & 0 & \\gamma & 0 \\\\\n0 & 0 & \\gamma & 0 & 2\\gamma & 1 - 4\\gamma & 0 & 0 & \\gamma \\\\\n0 & 0 & 0 & 2\\gamma & 0 & 0 & 1 - 4\\gamma & 2\\gamma & 0 \\\\\n0 & 0 & 0 & 0 & 2\\gamma & 0 & \\gamma & 1 - 4\\gamma & \\gamma \\\\\n0 & 0 & 0 & 0 & 0 & 2\\gamma & 0 & 2\\gamma & 1 - 4\\gamma\n\\end{bmatrix}.\n$$\nThis can be generalized into\n$$\nA = \\begin{bmatrix}\nT & 2D \\\\\nD & T & D \\\\\n  & D & T & D \\\\\n  & & \\ddots & \\ddots & \\ddots \\\\\n  & & & D & T & D \\\\\n  & & & & 2D & T\n\\end{bmatrix},\n$$\nwhere $T$ is a tridiagonal matrix and $D = \\gamma I$.\n\n#### Implementing\n\nInstead of creating the full matrix $A$, we create $A$ as an operator."
      ],
      "metadata": {}
    },
    {
      "outputs": [],
      "cell_type": "code",
      "source": [
        "function HeatEquationOp(L, m, δ, α)\n  h = L / (m - 1)\n  γ = α * δ / h^2\n  κ = 1 - 4γ\n\n  Tprod(v) = [κ * v[1] + 2γ * v[2];\n             [γ * v[i-1] + κ * v[i] + γ * v[i+1] for i = 2:m-1];\n              κ * v[m] + 2γ * v[m-1]]\n\n  T = LinearOperator(Float64, m, m, false, false, Tprod)\n  D = opEye(m) * γ\n\n  function prod(v)\n    Hv = zeros(m^2)\n    Hv[1:m] .= [T  2D] * v[1:2m]\n    for i = 2:m-1\n      Hv[(i-1)*m+1:i*m] .= [D T D] * v[(i-2)*m+1:(i+1)*m]\n    end\n    Hv[end-m+1:end] .= [2D T] * v[end-2m+1:end]\n    return Hv\n  end\n\n  return LinearOperator(Float64, m^2, m^2, false, false, prod)\nend"
      ],
      "metadata": {},
      "execution_count": null
    },
    {
      "outputs": [],
      "cell_type": "code",
      "source": [
        "A = HeatEquationOp(1.0, 3, 0.1, 0.1)\nMatrix(A)"
      ],
      "metadata": {},
      "execution_count": null
    },
    {
      "outputs": [],
      "cell_type": "code",
      "source": [
        "using SparseArrays, Plots\npyplot(size=(600,600))\n\nA = HeatEquationOp(1.0, 20, 0.1, 0.1)\nspy(sparse(Matrix(A)))"
      ],
      "metadata": {},
      "execution_count": null
    },
    {
      "outputs": [],
      "cell_type": "code",
      "source": [
        "function HeatEquation(u0, L, m, δ, α)\n  h = L / (m - 1)\n  U = zeros(m^2)\n  for i = 1:m\n    x = (i - 1) * h\n    for j = 1:m\n      y = (j - 1) * h\n      U[(i - 1)*m + j] = u0(x, y)\n    end\n  end\n  A = HeatEquationOp(L, m, δ, α)\n\n  return U, A\nend"
      ],
      "metadata": {},
      "execution_count": null
    },
    {
      "cell_type": "markdown",
      "source": [
        "Now, anytime we want to make a time step, we can simply compute `A * U`."
      ],
      "metadata": {}
    },
    {
      "outputs": [],
      "cell_type": "code",
      "source": [
        "const dark_purple = Colors.RGB(0.584, 0.345, 0.698)\nconst dark_red    = Colors.RGB(0.796, 0.235, 0.200)\nconst dark_green  = Colors.RGB(0.220, 0.596, 0.149)\nconst black       = Colors.RGB(0.0, 0.0, 0.0)\ncolors = [black, dark_green, dark_green, dark_red, dark_red, dark_purple, dark_purple]\n\nL = 5\nu0(x, y) = begin\n  d = [(x,y) -> ((x - sin(2π/3*i))^2 + (y - cos(2π/3*i))^2)^2 for i = 1:3]\n  xx, yy = x - L / 2, y - L / 2\n  return 3*exp(-sqrt(2)*d[1](xx,yy)) + 2*exp(-d[2](xx,yy)) + exp(-4*d[3](xx,yy))\nend\n\ngrid = range(0, L, length=100)\nmaxu = maximum([u0(xi,yi) for xi in grid, yi in grid])\np = plot(; leg=false, size=(1000,500), layout=@layout [a b])\nsurface!(p[1], grid, grid, u0, c=ColorGradient(colors), camera=(210,30))\ncontour!(p[2], grid, grid, u0, levels=range(0.1, maxu, length=50), c=ColorGradient(colors))"
      ],
      "metadata": {},
      "execution_count": null
    },
    {
      "outputs": [],
      "cell_type": "code",
      "source": [
        "L = 5\nm = 30\nδ = 0.01\nα = 0.5\n\nU0, A = HeatEquation(u0, L, m, δ, α)\nU = copy(U0)\n\nplot_rows = 5\nplot_cols = 3\nplots = []\n\nΔt = 25\n\nfor i = 1:plot_rows\n  for j = 1:plot_cols\n    global U\n\n    p = surface(reshape(U, m, m), leg=false, c=ColorGradient(colors), camera=(210,30))\n    zlims!(0, maximum(U0))\n    xticks!(Float64[])\n    yticks!(Float64[])\n    k = (i - 1) * plot_cols + j\n    title!(\"t = $(round(k * Δt * δ, digits=3))\")\n    push!(plots, p)\n\n    for t = 1:Δt\n      U = A * U\n    end\n  end\nend\nplot(plots..., layout=(plot_rows, plot_cols), size=(900, plot_rows * 300))"
      ],
      "metadata": {},
      "execution_count": null
    },
    {
      "outputs": [],
      "cell_type": "code",
      "source": [
        "U0, A = HeatEquation(u0, L, m, δ, α)\nU = copy(U0)\n\nΔt = 5\n\nanim = Animation()\nfor i = 1:60\n  global U\n\n  rU = reshape(U, m, m)\n  p = plot(; leg=false, size=(1000,500), layout=@layout [a b])\n  surface!(p[1], rU, c=ColorGradient(colors), camera=(210,30))\n  contour!(p[2], rU, levels=range(0.1, maximum(U0), length=50), c=ColorGradient(colors))\n  zlims!(0, maximum(U0))\n  frame(anim)\n\n  for t = 1:Δt\n    U = A * U\n  end\nend\ngif(anim, \"heat-equation.gif\", fps=12)\nnothing"
      ],
      "metadata": {},
      "execution_count": null
    },
    {
      "cell_type": "markdown",
      "source": [
        "![](heat-equation.gif)"
      ],
      "metadata": {}
    }
  ],
  "nbformat_minor": 2,
  "metadata": {
    "language_info": {
      "file_extension": ".jl",
      "mimetype": "application/julia",
      "name": "julia",
      "version": "1.3.1"
    },
    "kernelspec": {
      "name": "julia-1.3",
      "display_name": "Julia 1.3.1",
      "language": "julia"
    }
  },
  "nbformat": 4
}
